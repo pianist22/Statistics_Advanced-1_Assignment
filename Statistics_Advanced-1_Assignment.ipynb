{
 "cells": [
  {
   "cell_type": "markdown",
   "id": "79b07f66-c853-4489-ab0b-87280223be08",
   "metadata": {},
   "source": [
    "### Question 1: Define the z-statistic and explain its relationship to the standard normal distribution. How is the z-statistic used in hypothesis testing?"
   ]
  },
  {
   "cell_type": "raw",
   "id": "e4727c02-2e4c-4b1d-8521-9abeb36ced78",
   "metadata": {},
   "source": [
    "The z-statistic measures how many standard deviations a data point (or sample mean) is from the population mean. It is calculated as:\n",
    "z= (x-μ)/σ\n",
    " \n",
    "Where:\n",
    "x: sample mean or observed value,\n",
    "μ: population mean,\n",
    "σ: population standard deviation.\n",
    "In hypothesis testing, the z-statistic is used to compare the observed data with the null hypothesis. It helps determine the probability (p-value) of observing the data under the assumption that the null hypothesis is true."
   ]
  },
  {
   "cell_type": "markdown",
   "id": "6ed9e046-b3f5-4602-9b78-abe291dfbab3",
   "metadata": {},
   "source": [
    "### Question 2: What is a p-value, and how is it used in hypothesis testing? What does it mean if the p-value is very small (e.g., 0.01)?"
   ]
  },
  {
   "cell_type": "raw",
   "id": "edf6eec4-13fd-4eca-85bc-4cd4469713ab",
   "metadata": {},
   "source": [
    "The p-value is the probability of observing a test statistic as extreme as (or more extreme than) the observed one under the null hypothesis.\n",
    "\n",
    "A small p-value (e.g., < 0.01) indicates strong evidence against the null hypothesis, leading to its rejection.\n",
    "A large p-value suggests insufficient evidence to reject the null hypothesis."
   ]
  },
  {
   "cell_type": "markdown",
   "id": "2ddf600e-1265-435e-9f16-e7b285ccb83e",
   "metadata": {},
   "source": [
    "### Question 3: Compare and contrast the binomial and Bernoulli distributions."
   ]
  },
  {
   "cell_type": "raw",
   "id": "20480f47-7357-44e5-ac6f-edf3c02b4ee1",
   "metadata": {},
   "source": [
    "Bernoulli Distribution: A discrete probability distribution for a single trial with two outcomes: success (1) and failure (0).\n",
    "Example: Flipping a coin once.\n",
    "Binomial Distribution: The distribution of the number of successes in \n",
    "n independent Bernoulli trials.\n",
    "Example: Flipping a coin 10 times.\n",
    "Key Difference: Bernoulli has one trial, while Binomial aggregates multiple trials."
   ]
  },
  {
   "cell_type": "markdown",
   "id": "c84ee36d-2dc4-43e9-8119-0dfa034cbbe7",
   "metadata": {},
   "source": [
    "### Question 4: Under what conditions is the binomial distribution used, and how does it relate to the Bernoulli distribution?"
   ]
  },
  {
   "cell_type": "raw",
   "id": "e7f87462-c8f0-42d8-878d-b45365526e07",
   "metadata": {},
   "source": [
    "The binomial distribution is used when:\n",
    "\n",
    "There are n independent and identical trials.\n",
    "Each trial has two outcomes (success/failure).\n",
    "The probability of success (𝑝) is constant for all trials.\n",
    "Relation: The binomial distribution is the sum of 𝑛 independent Bernoulli trials.\n"
   ]
  },
  {
   "cell_type": "markdown",
   "id": "ad25b43d-1aa5-46e4-bd2e-ce6c1db51e90",
   "metadata": {},
   "source": [
    "### Question 5: What are the key properties of the Poisson distribution, and when is it appropriate to use this distribution?"
   ]
  },
  {
   "cell_type": "raw",
   "id": "eadd76db-51bb-44a1-80fa-bd4e6bdd7886",
   "metadata": {},
   "source": [
    "The Poisson distribution is used to model the number of events in a fixed interval of time or space, given that the events occur independently and at a constant average rate (𝜆).\n",
    "\n",
    "Key properties:\n",
    "\n",
    "Discrete distribution.\n",
    "Mean and variance are equal: \n",
    "𝐸(𝑋)=𝑉𝑎𝑟(𝑋)=𝜆\n",
    "Appropriate Use: Modeling rare events like customer arrivals or phone call frequencies."
   ]
  },
  {
   "cell_type": "markdown",
   "id": "53e25741-ac2f-4a42-b893-5f90b930f2f1",
   "metadata": {},
   "source": [
    "### Question 6: Define the terms \"probability distribution\" and \"probability density function\" (PDF). How does a PDF differ from a probability mass function (PMF)?"
   ]
  },
  {
   "cell_type": "raw",
   "id": "f9ae54d9-ad6f-4240-95d9-34986a78adba",
   "metadata": {},
   "source": [
    "Probability Distribution: Describes how probabilities are distributed over the outcomes of a random variable.\n",
    "PDF(Probability Density Function): Describes the likelihood of a continuous random variable within a specific range.\n",
    "Difference:\n",
    "\n",
    "PMF is for discrete variables (e.g., P(X=x)), while PDF is for continuous variables (e.g., area under f(x) curve)."
   ]
  },
  {
   "cell_type": "markdown",
   "id": "b5da6902-a21b-4794-97e8-92ca863cc43e",
   "metadata": {},
   "source": [
    "### Question 7: Explain the Central Limit Theorem (CLT) with an example."
   ]
  },
  {
   "cell_type": "raw",
   "id": "b93b2374-b18d-452b-b118-599b31857950",
   "metadata": {},
   "source": [
    "The Central Limit Theorem states that the sampling distribution of the sample mean approaches a normal distribution as the sample \n",
    "size increases, regardless of the population's original distribution.\n",
    "\n",
    "Example:\n",
    "Rolling a die multiple times. As the number of rolls increases, the average result converges to a normal distribution."
   ]
  },
  {
   "cell_type": "markdown",
   "id": "3065d15a-23e3-437d-a8a9-c4cc0492c61a",
   "metadata": {},
   "source": [
    "### Question 8: Compare z-scores and t-scores. When should you use a z-score, and when should a t-score be applied instead?"
   ]
  },
  {
   "cell_type": "raw",
   "id": "6522379a-aed2-4ffa-87af-7c9ed305e5b1",
   "metadata": {},
   "source": [
    "z-score: Used when the population standard deviation (𝜎) is known and the sample size is large (𝑛>30).\n",
    "\n",
    "t-score: Used when σ is unknown and the sample size is small (n≤30)."
   ]
  },
  {
   "cell_type": "markdown",
   "id": "8cc4e4d7-40c8-4c61-b1b8-63d96e0910a1",
   "metadata": {},
   "source": [
    "### Question9: Given a sample mean of 105, a population mean of 100, a standard deviation of 15, and a sample size of 25, calculate the z-score and p-value. Based on a significance level of 0.05, do you reject or fail to reject the null hypothesis? Task: Write Python code to calculate the z-score and p-value for the given data. Objective: Apply the formula for the z-score and interpret the p-value for hypothesis testing."
   ]
  },
  {
   "cell_type": "code",
   "execution_count": 3,
   "id": "05f1c7e4-1781-4e39-89aa-3b00ddab659a",
   "metadata": {},
   "outputs": [
    {
     "name": "stdout",
     "output_type": "stream",
     "text": [
      "Z-Score: 1.6666666666666667\n",
      "P-Value: 0.09558070454562939\n",
      "Fail to reject the null hypothesis.\n"
     ]
    }
   ],
   "source": [
    "import scipy.stats as stats\n",
    "\n",
    "# Given data\n",
    "sample_mean = 105\n",
    "population_mean = 100\n",
    "std_dev = 15\n",
    "sample_size = 25\n",
    "significance_level = 0.05\n",
    "\n",
    "# Calculate z-score\n",
    "z_score = (sample_mean - population_mean) / (std_dev / (sample_size ** 0.5))\n",
    "print(\"Z-Score:\", z_score)\n",
    "\n",
    "# Calculate p-value\n",
    "p_value = 2 * (1 - stats.norm.cdf(abs(z_score)))  # Two-tailed test\n",
    "print(\"P-Value:\", p_value)\n",
    "\n",
    "# Decision\n",
    "if p_value < significance_level:\n",
    "    print(\"Reject the null hypothesis.\")\n",
    "else:\n",
    "    print(\"Fail to reject the null hypothesis.\")"
   ]
  },
  {
   "cell_type": "markdown",
   "id": "54084c2b-d41e-4cc9-a1a1-46f9f45090f7",
   "metadata": {},
   "source": [
    "### Question10: Simulate a binomial distribution with 10 trials and a probability of success of 0.6 using Python. Generate 1,000 samples and plot the distribution. What is the expected mean and variance? Task: Use Python to generate the data, plot the distribution, and calculate the mean and variance. Objective: Understand the properties of a binomial distribution and verify them through simulation."
   ]
  },
  {
   "cell_type": "code",
   "execution_count": 4,
   "id": "47dc7206-ef4e-4366-8536-7d284d77cff8",
   "metadata": {},
   "outputs": [
    {
     "data": {
      "image/png": "[encoded data removed]",
      "text/plain": [
       "<Figure size 640x480 with 1 Axes>"
      ]
     },
     "metadata": {},
     "output_type": "display_data"
    },
    {
     "name": "stdout",
     "output_type": "stream",
     "text": [
      "Expected Mean: 6.0\n",
      "Expected Variance: 2.4000000000000004\n"
     ]
    }
   ],
   "source": [
    "import numpy as np\n",
    "import matplotlib.pyplot as plt\n",
    "\n",
    "# Parameters\n",
    "n = 10  # Number of trials\n",
    "p = 0.6  # Probability of success\n",
    "num_samples = 1000\n",
    "\n",
    "# Generate binomial samples\n",
    "samples = np.random.binomial(n, p, num_samples)\n",
    "\n",
    "# Plot distribution\n",
    "plt.hist(samples, bins=range(n+2), align='left', rwidth=0.8, color='skyblue', edgecolor='black')\n",
    "plt.title('Binomial Distribution (n=10, p=0.6)')\n",
    "plt.xlabel('Number of successes')\n",
    "plt.ylabel('Frequency')\n",
    "plt.show()\n",
    "\n",
    "# Expected mean and variance\n",
    "expected_mean = n * p\n",
    "expected_variance = n * p * (1 - p)\n",
    "\n",
    "print(\"Expected Mean:\", expected_mean)\n",
    "print(\"Expected Variance:\", expected_variance)"
   ]
  }
 ],
 "metadata": {
  "kernelspec": {
   "display_name": "Python 3 (ipykernel)",
   "language": "python",
   "name": "python3"
  },
  "language_info": {
   "codemirror_mode": {
    "name": "ipython",
    "version": 3
   },
   "file_extension": ".py",
   "mimetype": "text/x-python",
   "name": "python",
   "nbconvert_exporter": "python",
   "pygments_lexer": "ipython3",
   "version": "3.12.6"
  }
 },
 "nbformat": 4,
 "nbformat_minor": 5
}
